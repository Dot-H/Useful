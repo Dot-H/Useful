{
 "metadata": {
  "name": "",
  "signature": "sha256:8baca9bb5d71acc8b02cde2391c841667e7aee828c17f4b9ff15019c49a4abec"
 },
 "nbformat": 3,
 "nbformat_minor": 0,
 "worksheets": [
  {
   "cells": [
    {
     "cell_type": "code",
     "collapsed": false,
     "input": [
      "import sys\n",
      "\n",
      "def create_dot_h(filename):\n",
      "    f = open(filename, \"r\")\n",
      "    h_name = filename\n",
      "    h_name = h_name.replace('.c', '.h')\n",
      "    h = open(h_name, \"w+\")\n",
      "    h_macros = h_name.replace('.', '_').upper();\n",
      "    h.write(\"#ifndef \" + h_macros + '\\n')\n",
      "    h.write(\"#define \" + h_macros + '\\n\\n')\n",
      "    \n",
      "    f_lines = f.readlines()\n",
      "    stack = []\n",
      "    function = \"\"\n",
      "    args = []\n",
      "    for line in f_lines:\n",
      "        if line.find(\"#include\") != -1:\n",
      "            continue\n",
      "        for c in line[:line.find(\"//\")]:\n",
      "            if (c == '{'):\n",
      "                stack.append(c)\n",
      "            elif (c == '}'):\n",
      "                stack.pop()\n",
      "            elif (len(stack) == 0):\n",
      "                if (c == '\\n'):\n",
      "                    continue\n",
      "                elif (c == '('):\n",
      "                    args.append(c)\n",
      "                elif (c == ')'):\n",
      "                    args.pop()\n",
      "                    function += ')'\n",
      "                    if len(args) == 0:\n",
      "                        h.write(function + ';\\n\\n')\n",
      "                        function = \"\"\n",
      "                        continue\n",
      "                function += c\n",
      "    h.write(\"#endif\")\n",
      "    f.close()\n",
      "    h.close()\n",
      "\n",
      "if len(sys.argv) != 2:\n",
      "   print \"expected: \" + argv[0] + \" filename\"\n",
      "else:\n",
      "    create_dot_h(sys.argv[1])"
     ],
     "language": "python",
     "metadata": {},
     "outputs": [
      {
       "ename": "NameError",
       "evalue": "name 'argv' is not defined",
       "output_type": "pyerr",
       "traceback": [
        "\u001b[0;31m---------------------------------------------------------------------------\u001b[0m\n\u001b[0;31mNameError\u001b[0m                                 Traceback (most recent call last)",
        "\u001b[0;32m<ipython-input-102-9c30558d1b1e>\u001b[0m in \u001b[0;36m<module>\u001b[0;34m()\u001b[0m\n\u001b[1;32m     40\u001b[0m \u001b[0;34m\u001b[0m\u001b[0m\n\u001b[1;32m     41\u001b[0m \u001b[0;32mif\u001b[0m \u001b[0mlen\u001b[0m\u001b[0;34m(\u001b[0m\u001b[0msys\u001b[0m\u001b[0;34m.\u001b[0m\u001b[0margv\u001b[0m\u001b[0;34m)\u001b[0m \u001b[0;34m!=\u001b[0m \u001b[0;36m2\u001b[0m\u001b[0;34m:\u001b[0m\u001b[0;34m\u001b[0m\u001b[0m\n\u001b[0;32m---> 42\u001b[0;31m    \u001b[0;32mprint\u001b[0m \u001b[0;34m\"expected: \"\u001b[0m \u001b[0;34m+\u001b[0m \u001b[0margv\u001b[0m\u001b[0;34m[\u001b[0m\u001b[0;36m0\u001b[0m\u001b[0;34m]\u001b[0m \u001b[0;34m+\u001b[0m \u001b[0;34m\" filename\"\u001b[0m\u001b[0;34m\u001b[0m\u001b[0m\n\u001b[0m\u001b[1;32m     43\u001b[0m \u001b[0;32melse\u001b[0m\u001b[0;34m:\u001b[0m\u001b[0;34m\u001b[0m\u001b[0m\n\u001b[1;32m     44\u001b[0m     \u001b[0mcreate_dot_h\u001b[0m\u001b[0;34m(\u001b[0m\u001b[0msys\u001b[0m\u001b[0;34m.\u001b[0m\u001b[0margv\u001b[0m\u001b[0;34m[\u001b[0m\u001b[0;36m1\u001b[0m\u001b[0;34m]\u001b[0m\u001b[0;34m)\u001b[0m\u001b[0;34m\u001b[0m\u001b[0m\n",
        "\u001b[0;31mNameError\u001b[0m: name 'argv' is not defined"
       ]
      }
     ],
     "prompt_number": 102
    },
    {
     "cell_type": "code",
     "collapsed": false,
     "input": [
      "create_dot_h(\"assignment_partC.c\")"
     ],
     "language": "python",
     "metadata": {},
     "outputs": [],
     "prompt_number": 101
    },
    {
     "cell_type": "code",
     "collapsed": false,
     "input": [],
     "language": "python",
     "metadata": {},
     "outputs": []
    }
   ],
   "metadata": {}
  }
 ]
}