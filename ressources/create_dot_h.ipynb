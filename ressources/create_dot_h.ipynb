{
 "metadata": {
  "name": "",
  "signature": "sha256:d9890e102a1322b9990a0311afb0aaacb4741d1cef4859c614ccde6e6bb55803"
 },
 "nbformat": 3,
 "nbformat_minor": 0,
 "worksheets": [
  {
   "cells": [
    {
     "cell_type": "code",
     "collapsed": false,
     "input": [
      "import sys\n",
      "\n",
      "def create_dot_h(filename):\n",
      "    f = open(filename, \"r\")\n",
      "    h_name = filename\n",
      "    h_name = h_name.replace('.c', '.h')\n",
      "    h = open(h_name, \"w+\")\n",
      "    h_macros = h_name.replace('.', '_').upper();\n",
      "    h.write(\"#ifndef \" + h_macros + '\\n')\n",
      "    h.write(\"#define \" + h_macros + '\\n\\n')\n",
      "    \n",
      "    f_lines = f.readlines()\n",
      "    stack = []\n",
      "    function = \"\"\n",
      "    args = []\n",
      "    for line in f_lines:\n",
      "        if line.find(\"#include\") != -1:\n",
      "            continue\n",
      "        for c in line[:line.find(\"//\")]:\n",
      "            if (c == '{'):\n",
      "                stack.append(c)\n",
      "            elif (c == '}'):\n",
      "                stack.pop()\n",
      "            elif (len(stack) == 0):\n",
      "                if (c == '\\n'):\n",
      "                    continue\n",
      "                elif (c == '('):\n",
      "                    args.append(c)\n",
      "                elif (c == ')'):\n",
      "                    args.pop()\n",
      "                    function += ')'\n",
      "                    if len(args) == 0:\n",
      "                        h.write(function + ';\\n\\n')\n",
      "                        function = \"\"\n",
      "                        continue\n",
      "                function += c\n",
      "    h.write(\"#endif\")\n",
      "    f.close()\n",
      "    h.close()\n",
      "\n",
      "if len(sys.argv) != 2:\n",
      "   print \"expected: \" + sys.argv[0] + \" filename\"\n",
      "else:\n",
      "    create_dot_h(sys.argv[1])"
     ],
     "language": "python",
     "metadata": {},
     "outputs": [
      {
       "output_type": "stream",
       "stream": "stdout",
       "text": [
        "expected: -c filename\n"
       ]
      }
     ],
     "prompt_number": 103
    },
    {
     "cell_type": "code",
     "collapsed": false,
     "input": [
      "create_dot_h(\"assignment_partC.c\")"
     ],
     "language": "python",
     "metadata": {},
     "outputs": [],
     "prompt_number": 101
    },
    {
     "cell_type": "code",
     "collapsed": false,
     "input": [],
     "language": "python",
     "metadata": {},
     "outputs": []
    }
   ],
   "metadata": {}
  }
 ]
}